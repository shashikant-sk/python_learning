{
  "nbformat": 4,
  "nbformat_minor": 0,
  "metadata": {
    "colab": {
      "name": "Binary Search Algorithm.ipynb",
      "provenance": [],
      "collapsed_sections": []
    },
    "kernelspec": {
      "name": "python3",
      "display_name": "Python 3"
    },
    "language_info": {
      "name": "python"
    }
  },
  "cells": [
    {
      "cell_type": "code",
      "metadata": {
        "colab": {
          "base_uri": "https://localhost:8080/"
        },
        "id": "tMXsZ8LkP0s6",
        "outputId": "95ec90b6-2ef0-4994-e128-626a51bc68cd"
      },
      "source": [
        "#DataFlair Guide for Binary Search\n",
        "#RECURSIVE FUNCTION CALL BASED APPROACH\n",
        "#Function to search element in list\n",
        "def binary_search(start,end,int_list,target):\n",
        "   #Condition to check if element is not present  \n",
        "   if start<=end:\n",
        "      mid = (start+end) // 2\n",
        "\n",
        "      #Check if mid element is the target element\n",
        "      if int_list[mid] == target:\n",
        "        return mid +1\n",
        "\n",
        "      #If not, check if lesser than mid element\n",
        "      #Change range to start to mid-1, since less than mid\n",
        "      elif target < int_list[mid]:\n",
        "        return binary_search(start,mid-1,int_list,target)\n",
        "\n",
        "      #Check if lesser than mid element\n",
        "      #Change range to mid+1 to end, since greater than mid \n",
        "      elif target > int_list[mid]:\n",
        "        return binary_search(mid+1,end,int_list,target)\n",
        "   \n",
        "   else:\n",
        "      return -1\n",
        "\n",
        "#Read length of list from user\n",
        "length = int(input(\"Enter length of list: \"))\n",
        "int_list = []\n",
        "\n",
        "#Read elements of list \n",
        "for i in range(length):\n",
        "  element =  int(input(\"Enter element: \"))\n",
        "  int_list.append(element)\n",
        "\n",
        "#Sort the list\n",
        "int_list=sorted(int_list)\n",
        "print(int_list)\n",
        "\n",
        "#Read target element to be found\n",
        "target = int(input(\"Enter target element: \"))\n",
        "\n",
        "position = binary_search(0,length-1,int_list,target)\n",
        "\n",
        "if position == -1:\n",
        "    print('Element not in list')\n",
        "else:\n",
        "    print(\"Element found at position: \"+ str(position))"
      ],
      "execution_count": null,
      "outputs": [
        {
          "output_type": "stream",
          "text": [
            "Enter length of list: 5\n",
            "Enter element: 9\n",
            "Enter element: 3\n",
            "Enter element: 6\n",
            "Enter element: 2\n",
            "Enter element: 4\n",
            "[2, 3, 4, 6, 9]\n",
            "Enter target element: 4\n",
            "Element found at position: 3\n"
          ],
          "name": "stdout"
        }
      ]
    },
    {
      "cell_type": "code",
      "metadata": {
        "colab": {
          "base_uri": "https://localhost:8080/"
        },
        "id": "-uCtitJDRVMw",
        "outputId": "f2ac39bd-38cc-44b4-9a1a-b32f5815f911"
      },
      "source": [
        "#DataFlair Guide for Binary Search\n",
        "#ITERATIVE APPROACH\n",
        "\n",
        "#Read length of list from user\n",
        "length = int(input(\"Enter length of list: \"))\n",
        "int_list = []\n",
        "\n",
        "#Read elements of list \n",
        "for i in range(length):\n",
        "  element =  int(input(\"Enter element: \"))\n",
        "  int_list.append(element)\n",
        "\n",
        "#Sort the list\n",
        "int_list=sorted(int_list)\n",
        "print(int_list)\n",
        "\n",
        "#Read target element to be found\n",
        "target = int(input(\"Enter target element: \"))\n",
        "#Define variables\n",
        "start = 0\n",
        "end = length-1\n",
        "position = -1\n",
        "\n",
        "while(start<=end):\n",
        "  mid = (start+end) // 2  \n",
        "  if int_list[mid] == target:\n",
        "    position = mid\n",
        "    break\n",
        "  #If not, check if lesser than mid element\n",
        "  #Change range to start to mid-1, since less than mid\n",
        "  elif target < int_list[mid]:\n",
        "    end = mid-1\n",
        "  #Check if lesser than mid element\n",
        "  #Change range to mid+1 to end, since greater than mid \n",
        "  elif target > int_list[mid]:\n",
        "    start = mid+1\n",
        "\n",
        "if position == -1:\n",
        "    print('Element not in list')\n",
        "else:\n",
        "    print(\"Element found at position: \"+ str(position+1))\n",
        "   "
      ],
      "execution_count": 5,
      "outputs": [
        {
          "output_type": "stream",
          "text": [
            "Enter length of list: 6\n",
            "Enter element: 1\n",
            "Enter element: 2\n",
            "Enter element: 3\n",
            "Enter element: 4\n",
            "Enter element: 5\n",
            "Enter element: 6\n",
            "[1, 2, 3, 4, 5, 6]\n",
            "Enter target element: 7\n",
            "Element not in list\n"
          ],
          "name": "stdout"
        }
      ]
    },
    {
      "cell_type": "code",
      "metadata": {
        "id": "_r7zNUfdUjW7"
      },
      "source": [
        "1"
      ],
      "execution_count": null,
      "outputs": []
    }
  ]
}